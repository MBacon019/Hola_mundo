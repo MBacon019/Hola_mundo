{
  "nbformat": 4,
  "nbformat_minor": 0,
  "metadata": {
    "colab": {
      "provenance": [],
      "authorship_tag": "ABX9TyNR9pewJKqMJ0AU3Wn14znh",
      "include_colab_link": true
    },
    "kernelspec": {
      "name": "python3",
      "display_name": "Python 3"
    },
    "language_info": {
      "name": "python"
    }
  },
  "cells": [
    {
      "cell_type": "markdown",
      "metadata": {
        "id": "view-in-github",
        "colab_type": "text"
      },
      "source": [
        "<a href=\"https://colab.research.google.com/github/MBacon019/Hola_mundo/blob/main/Script%20Funcion%20ARGS.ipynb\" target=\"_parent\"><img src=\"https://colab.research.google.com/assets/colab-badge.svg\" alt=\"Open In Colab\"/></a>"
      ]
    },
    {
      "cell_type": "markdown",
      "source": [
        "#Script para sacar promedio de una funcion\n",
        "\n",
        "*Usando la funcion (*args)\n",
        "\n",
        "1. Definiir la funcion que vamos a realizar.\n",
        "2. Adjuntamos la funcion *args.\n",
        "3. Usamos for i in args:\n",
        "4. Usamos el promedio = subtotoal / total_itemes , para dar el resultado buscado.\n",
        "5. Usamos Return de Promedio.\n",
        "6. Hacemos la llamada.\n",
        "7. Total = calcular_promedio(digitamos n cantidad de valores que deseamos).\n",
        "7. Mandamos a imprimir el resultado.\n",
        "\n",
        "\n"
      ],
      "metadata": {
        "id": "1BFYY4b424GI"
      }
    },
    {
      "cell_type": "code",
      "execution_count": null,
      "metadata": {
        "colab": {
          "base_uri": "https://localhost:8080/"
        },
        "id": "cH199cbM2kr2",
        "outputId": "c7b733e4-f1da-4820-8111-1299e3f35b6f"
      },
      "outputs": [
        {
          "output_type": "stream",
          "name": "stdout",
          "text": [
            "i=18, tipo: <class 'int'>\n",
            "i=16, tipo: <class 'int'>\n",
            "i=17, tipo: <class 'int'>\n",
            "i=10, tipo: <class 'int'>\n",
            "Total: 15.25\n"
          ]
        }
      ],
      "source": [
        "# 1. Hago la declaraciòn de la funciòn\n",
        "# *args indeterminada cantidad de parámetros\n",
        "def calcular_promedio(*args):\n",
        "    subtotal = 0\n",
        "    for i in args:\n",
        "        print(f'i={i}, tipo: {type(i)}')\n",
        "        subtotal += i\n",
        "    total_items = len(args) # Devuleve la cantidad de argumentos en *args\n",
        "    promedio = subtotal / total_items\n",
        "    return promedio\n",
        "\n",
        "# 2. Hacer la llamada\n",
        "\n",
        "total = calcular_promedio(18, 16, 17, 10)\n",
        "print(f'Total: {total}')"
      ]
    },
    {
      "cell_type": "code",
      "source": [],
      "metadata": {
        "id": "9aAFSqZE3eCP"
      },
      "execution_count": null,
      "outputs": []
    }
  ]
}