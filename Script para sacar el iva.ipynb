{
  "nbformat": 4,
  "nbformat_minor": 0,
  "metadata": {
    "colab": {
      "provenance": [],
      "authorship_tag": "ABX9TyMt1v6uL4tOgZ5lc2DSpJ7s",
      "include_colab_link": true
    },
    "kernelspec": {
      "name": "python3",
      "display_name": "Python 3"
    },
    "language_info": {
      "name": "python"
    }
  },
  "cells": [
    {
      "cell_type": "markdown",
      "metadata": {
        "id": "view-in-github",
        "colab_type": "text"
      },
      "source": [
        "<a href=\"https://colab.research.google.com/github/MBacon019/Hola_mundo/blob/main/Script%20para%20sacar%20el%20iva.ipynb\" target=\"_parent\"><img src=\"https://colab.research.google.com/assets/colab-badge.svg\" alt=\"Open In Colab\"/></a>"
      ]
    },
    {
      "cell_type": "markdown",
      "source": [
        "#Script Para Realizar iva a un valor"
      ],
      "metadata": {
        "id": "UOyDA9q159GX"
      }
    },
    {
      "cell_type": "markdown",
      "source": [
        "\n",
        "\n",
        "1. Definimos la funcion a realizar\n",
        "2. Usamos e laprametro iva = 0.15\n",
        "3. Usamos return del iva\n",
        "4. Mandamos a pedir al usuario un valor\n",
        "5. Mandamos a imprimir el valor del iva\n",
        "\n"
      ],
      "metadata": {
        "id": "IZGYfZPG5-jV"
      }
    },
    {
      "cell_type": "code",
      "source": [
        "def calcular_el_iva():\n",
        "    monto = calcular_el_iva\n",
        "    iva = 0.15\n",
        "    return iva\n",
        "\n",
        "a = calcular_el_iva()\n",
        "\n",
        "print(input(f\"Ingrese el valor para obtener el iva : \\n\"))\n",
        "print(f\"El valor del dato es : {a} \")\n"
      ],
      "metadata": {
        "colab": {
          "base_uri": "https://localhost:8080/"
        },
        "id": "DdfkwjwT6-Gd",
        "outputId": "e511278b-a038-4244-c1be-ec95c523095e"
      },
      "execution_count": null,
      "outputs": [
        {
          "output_type": "stream",
          "name": "stdout",
          "text": [
            "Ingrese el valor para obtener el iva : \n",
            "25\n",
            "25\n",
            "El valor del dato es : 0.15 \n"
          ]
        }
      ]
    }
  ]
}